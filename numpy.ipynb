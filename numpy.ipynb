{
  "nbformat": 4,
  "nbformat_minor": 0,
  "metadata": {
    "colab": {
      "name": "numpy.ipynb",
      "provenance": []
    },
    "kernelspec": {
      "name": "python3",
      "display_name": "Python 3"
    },
    "language_info": {
      "name": "python"
    }
  },
  "cells": [
    {
      "cell_type": "markdown",
      "metadata": {
        "id": "FPCm42I8Qm4z"
      },
      "source": [
        "Write a Python program to convert an array to an ordinary list with the same items.\n",
        "\n",
        "we can use the np.tolist() function"
      ]
    },
    {
      "cell_type": "code",
      "metadata": {
        "colab": {
          "base_uri": "https://localhost:8080/"
        },
        "id": "vhTWIeSUQHjk",
        "outputId": "5a77a3aa-d79b-4690-ff5c-5521f2b2a2b3"
      },
      "source": [
        "#Quetsion1\n",
        "import numpy as np\n",
        "arr = np.array([[1, 2, 3], [4, 5, 6]])\n",
        "lst1=arr.tolist()\n",
        "print(lst1)"
      ],
      "execution_count": 1,
      "outputs": [
        {
          "output_type": "stream",
          "name": "stdout",
          "text": [
            "[[1, 2, 3], [4, 5, 6]]\n"
          ]
        }
      ]
    },
    {
      "cell_type": "markdown",
      "metadata": {
        "id": "L_7elkdlRjsI"
      },
      "source": [
        "Question 2 \n",
        "\n",
        "Write a NumPy program to compute the sum of the diagonal elements of a given array.\n",
        "\n",
        "Hint: Two methods to solve this problem: 1. manually(without direct function). 2. using the trace function"
      ]
    },
    {
      "cell_type": "code",
      "metadata": {
        "colab": {
          "base_uri": "https://localhost:8080/"
        },
        "id": "hhWJkPmzRlk4",
        "outputId": "55830875-5710-4a71-fcd7-b1386e0ae0fe"
      },
      "source": [
        "#Question2\n",
        "#with function method\n",
        "import numpy as np\n",
        "arr=np.array([(1,5,2),(6,8,5),(8,6,10)])\n",
        "trace=np.trace(arr)\n",
        "print(arr)\n",
        "print(\"the sum of the diagonal elements is;\",trace)\n"
      ],
      "execution_count": 4,
      "outputs": [
        {
          "output_type": "stream",
          "name": "stdout",
          "text": [
            "[[ 1  5  2]\n",
            " [ 6  8  5]\n",
            " [ 8  6 10]]\n",
            "the sum of the diagonal elements is; 19\n"
          ]
        }
      ]
    },
    {
      "cell_type": "code",
      "metadata": {
        "colab": {
          "base_uri": "https://localhost:8080/"
        },
        "id": "NPK-SAP0UE1J",
        "outputId": "0fe0c50c-5725-49ae-ee9b-4aa019e02c56"
      },
      "source": [
        "#withput function\n",
        "import numpy as np\n",
        "arr=np.array([(1,8,5),(5,74,5),(7,9,2)])\n",
        "i=arr[0,0]\n",
        "j=arr[1,1]\n",
        "k=arr[2,2]\n",
        "print(i+j+k)"
      ],
      "execution_count": 9,
      "outputs": [
        {
          "output_type": "stream",
          "name": "stdout",
          "text": [
            "77\n"
          ]
        }
      ]
    },
    {
      "cell_type": "markdown",
      "metadata": {
        "id": "74eCiuMkSNbF"
      },
      "source": [
        "Question 3\n",
        "\n",
        "Given an array of your choice, get all the values higher than X :\n",
        "\n",
        "if a = [[1,2],[3,5]] and x = 2 :  then 3 and 5 are higher than 2. "
      ]
    },
    {
      "cell_type": "code",
      "metadata": {
        "colab": {
          "base_uri": "https://localhost:8080/"
        },
        "id": "u4OCU1PjSQ-s",
        "outputId": "246606ce-e1de-445a-e588-fb3dfb69a46e"
      },
      "source": [
        "a=np.array([[1,2],[3,5]])\n",
        "x=2\n",
        "print(a[a>x])"
      ],
      "execution_count": 20,
      "outputs": [
        {
          "output_type": "stream",
          "name": "stdout",
          "text": [
            "[3 5]\n"
          ]
        }
      ]
    },
    {
      "cell_type": "markdown",
      "metadata": {
        "id": "1cAP7hGGSUUE"
      },
      "source": [
        "Question 4\n",
        "\n",
        "Given two arrays A&B having the same shape. \n",
        "\n",
        "The task is to apply addition by hand: C is the new array. "
      ]
    },
    {
      "cell_type": "code",
      "metadata": {
        "colab": {
          "base_uri": "https://localhost:8080/"
        },
        "id": "Ly82Xr6NSVvp",
        "outputId": "740ed4bb-3b1d-41c7-82dd-86130e14be9b"
      },
      "source": [
        "#question 4\n",
        "A=np.array([[1,8,5],[5,6,3]],dtype=np.float64)\n",
        "B=np.array([[78,4,3],[8,52,9]],dtype=np.float64)\n",
        "C=A+B\n",
        "print(C)"
      ],
      "execution_count": 18,
      "outputs": [
        {
          "output_type": "stream",
          "name": "stdout",
          "text": [
            "[[79. 12.  8.]\n",
            " [13. 58. 12.]]\n"
          ]
        }
      ]
    },
    {
      "cell_type": "markdown",
      "metadata": {
        "id": "kSOXhNcgSXzs"
      },
      "source": [
        "Question 5\n",
        "\n",
        "Write a NumPy program to subtract the mean of each row of a given matrix.\n",
        "\n",
        "Hint: use the mean function"
      ]
    },
    {
      "cell_type": "code",
      "metadata": {
        "colab": {
          "base_uri": "https://localhost:8080/"
        },
        "id": "Lnb_QGpoSZMB",
        "outputId": "b3c95d0f-2eef-4251-f95d-c556b3bf0d35"
      },
      "source": [
        "#question5\n",
        "\n",
        "import numpy as np\n",
        "arr=np.array([(1,5,2),(8,5,3),(84,9,6)])\n",
        "print(arr)\n",
        "R=0\n",
        "R1=0\n",
        "R2=0\n",
        "for i in arr[0]:\n",
        "  R=R+i\n",
        "print(R/3)\n",
        "for j in arr[1]:\n",
        "  R1=R1+j\n",
        "print(R1/3)\n",
        "for k in arr[2]:\n",
        "  R2=R2+k\n",
        "print(R2/3)\n",
        "\n",
        "\n"
      ],
      "execution_count": 35,
      "outputs": [
        {
          "output_type": "stream",
          "name": "stdout",
          "text": [
            "[[ 1  5  2]\n",
            " [ 8  5  3]\n",
            " [84  9  6]]\n",
            "2.6666666666666665\n",
            "5.333333333333333\n",
            "33.0\n"
          ]
        }
      ]
    }
  ]
}